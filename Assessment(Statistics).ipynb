{
 "cells": [
  {
   "cell_type": "markdown",
   "id": "92576869-923f-4968-a7ff-5da9ee15c3ed",
   "metadata": {},
   "source": [
    "# Statistics"
   ]
  },
  {
   "cell_type": "markdown",
   "id": "4f83808f-52d3-46d7-9306-38b457e98bf4",
   "metadata": {},
   "source": [
    "### Question: 1\n",
    "#### What is the meaning of six sigma in statistics?  Give proper example"
   ]
  },
  {
   "cell_type": "raw",
   "id": "44a16dca-bc42-4618-8cc8-ce7326993b65",
   "metadata": {},
   "source": [
    "Six Sigma is like aiming for almost perfect quality in whatever we are  doing. It is  a method that uses data and careful planning to make sure that  there are as few mistakes or defects as possible in a process. \n",
    "Whether it's making products or providing services, Six Sigma helps to identify and fix problems so that things turn out just right. It's all about making sure things are done really well, with very less error\n",
    "For Example--\n",
    "Suppose we are making bolts in a factory. If the bolts have variations in their diameter, they might not fit properly in the products they're used in, leading to defects. With Six Sigma, we are  aiming to minimize these variations so that the bolts consistently meet the required specifications. This means ensuring that the diameter of each bolt falls within very narrow tolerance limits, and there's minimal variation from one bolt to another."
   ]
  },
  {
   "cell_type": "markdown",
   "id": "b8a6a2af-8f4a-4dae-a7be-456324583607",
   "metadata": {},
   "source": [
    "#### Q2.What type of data does not have a log-normal distribution or a Gaussian distribution?  Give proper example\n"
   ]
  },
  {
   "cell_type": "raw",
   "id": "51e1cfb7-d446-4e36-a654-ced7c724d609",
   "metadata": {},
   "source": [
    "Ans - Non-normally distributed data is the data that does not have a log-normal distribution or a Gaussian distribution.\n",
    "This type of data does not follow the typical bell-shaped curve that is characteristic of a Gaussian distribution (also known as a normal distribution) or the skewed distribution observed in a log-normal distribution.\n",
    "Example:\n",
    "Non-normally distributed data includes:\n",
    "Skewed data: Data heavily skewed to one side, like income data with many low earners and few high earners.\n",
    "\n",
    "Bimodal data: Data with two distinct peaks, indicating different groups, like heights in a population with children and adults.\n",
    "\n",
    "Heavy-tailed data: Data with more extreme values than expected, such as stock market returns.\n",
    "\n",
    "Categorical data: Data representing categories, like eye color or marital status, which doesn't follow a normal distribution."
   ]
  },
  {
   "cell_type": "markdown",
   "id": "fc845d6f-775d-4b68-b3dc-c60798910aa5",
   "metadata": {},
   "source": [
    "#### Q3.What is the meaning of the five-number summary in Statistics? Give proper example"
   ]
  },
  {
   "cell_type": "raw",
   "id": "1980768f-f9c0-475c-bf40-8fd570e37380",
   "metadata": {},
   "source": [
    "Five-number summary helps in understanding where most of the data lies, how spread out it is, and if there are any extreme values.\n",
    "It's like getting a quick snapshot of the dataset without having to look at all the individual data points.\n",
    "Here's what each part of the five-number summary tells us:\n",
    "Minimum: This is the smallest value in the dataset. It shows us the lowest point.\n",
    "\n",
    "Q1 (First Quartile): This is the value below which 25% of the data fall. It's like marking a quarter of the way along the journey.\n",
    "\n",
    "Median (Second Quartile): This is the middle value of the dataset when it's arranged in order. Half of the data is below this value, and half is above it. It's like finding the middle point.\n",
    "\n",
    "Q3 (Third Quartile): This is the value below which 75% of the data fall. It's like marking three-quarters of the way along the journey.\n",
    "\n",
    "Maximum: This is the largest value in the dataset. It shows us the highest point.\n",
    "Example"
   ]
  },
  {
   "cell_type": "code",
   "execution_count": 1,
   "id": "64a8553a-abe3-4160-9dec-875fe57f647d",
   "metadata": {},
   "outputs": [
    {
     "name": "stdout",
     "output_type": "stream",
     "text": [
      "Minimum: 65\n",
      "Q1 (First Quartile): 75.5\n",
      "Median (Second Quartile): 87.5\n",
      "Q3 (Third Quartile): 94.25\n",
      "Maximum: 100\n"
     ]
    }
   ],
   "source": [
    "import numpy as np\n",
    "exam_scores = [65, 72, 74, 80, 85, 90, 92, 95, 98, 100]\n",
    "\n",
    "# Calculate the five-number summary\n",
    "minimum = np.min(exam_scores)\n",
    "q1 = np.percentile(exam_scores, 25)\n",
    "median = np.median(exam_scores)\n",
    "q3 = np.percentile(exam_scores, 75)\n",
    "maximum = np.max(exam_scores)\n",
    "\n",
    "# Print the five-number summary\n",
    "print(\"Minimum:\", minimum)\n",
    "print(\"Q1 (First Quartile):\", q1)\n",
    "print(\"Median (Second Quartile):\", median)\n",
    "print(\"Q3 (Third Quartile):\", q3)\n",
    "print(\"Maximum:\", maximum)\n"
   ]
  },
  {
   "cell_type": "markdown",
   "id": "87113ff8-00df-49da-bd22-2e5ce424a3d9",
   "metadata": {},
   "source": [
    "#### Q4.What is correlation? Give an example with a dataset & graphical representation on jupyter Notebook"
   ]
  },
  {
   "cell_type": "code",
   "execution_count": null,
   "id": "9fa160a5-1d23-4825-84bf-412d46cb1b35",
   "metadata": {},
   "outputs": [],
   "source": [
    "Correlation is a statistical measure that tells us how strong and weak relationship is between two variables.\n",
    "A correlation coefficient, typically denoted as \n",
    "r which is used to measure correlation, with values ranging from -1 to 1\n",
    "if r is closer to 1 than strong po\n"
   ]
  }
 ],
 "metadata": {
  "kernelspec": {
   "display_name": "Python 3 (ipykernel)",
   "language": "python",
   "name": "python3"
  },
  "language_info": {
   "codemirror_mode": {
    "name": "ipython",
    "version": 3
   },
   "file_extension": ".py",
   "mimetype": "text/x-python",
   "name": "python",
   "nbconvert_exporter": "python",
   "pygments_lexer": "ipython3",
   "version": "3.11.8"
  }
 },
 "nbformat": 4,
 "nbformat_minor": 5
}
