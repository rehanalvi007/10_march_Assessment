{
 "cells": [
  {
   "cell_type": "raw",
   "id": "24497359-8061-4a90-8a45-1df0f8b9a5cd",
   "metadata": {},
   "source": [
    "# \n",
    "Question: 1\n",
    "\n",
    "\n",
    "You have an input dictionary given,\n",
    "\n",
    "input_dict = {\"abc\":{\"def\":{\"ghi\":{\"jkl\":{\"mno\":{\"pqr\":{\"stu\":{\"vwx\":{\"yz\":\"you are finally here !!!\"}}}}}}}}}\n",
    "\n",
    "Task:  You have to write a Python function that will take this input and print it like that,\n",
    "\n",
    "output = {\"abc\":[\"def\",\"ghi\",\"jkl\",\"mno\",\"pqr\",\"stu\",\"vwx\",\"yz\"],\n",
    " \"def\":[\"ghi\",\"jkl\",\"mno\",\"pqr\",\"stu\",\"vwx\",\"yz\"],\n",
    " \"ghi\":[\"jkl\",\"mno\",\"pqr\",\"stu\",\"vwx\",\"yz\"],\n",
    " \"jkl\":[\"mno\",\"pqr\",\"stu\",\"vwx\",\"yz\"],\n",
    " \"mno\":[\"pqr\",\"stu\",\"vwx\",\"yz\"],\n",
    " \"pqr\":[\"stu\",\"vwx\",\"yz\"],\n",
    " \"stu\":[\"vwx\",\"yz\"],\n",
    " \"vwx\":[\"yz\"],\n",
    " \"yz\":[\"you are finally here !!!\"]}\n"
   ]
  },
  {
   "cell_type": "code",
   "execution_count": 6,
   "id": "29880744-93cc-4cf6-b356-18bcb508db44",
   "metadata": {},
   "outputs": [
    {
     "name": "stdout",
     "output_type": "stream",
     "text": [
      "{'abc': [], 'abc.def': [], 'abc.def.ghi': [], 'abc.def.ghi.jkl': [], 'abc.def.ghi.jkl.mno': [], 'abc.def.ghi.jkl.mno.pqr': [], 'abc.def.ghi.jkl.mno.pqr.stu': [], 'abc.def.ghi.jkl.mno.pqr.stu.vwx': [], 'abc.def.ghi.jkl.mno.pqr.stu.vwx.yz': ['you are finally here !!!']}\n"
     ]
    }
   ],
   "source": [
    "def print_dict(input_dict):\n",
    "    def helper(input_dict, output, current_path):\n",
    "        for key, value in input_dict.items():\n",
    "            new_path = current_path + [key]\n",
    "            if isinstance(value, dict):\n",
    "                output[\".\".join(new_path)] = []\n",
    "                helper(value, output, new_path)\n",
    "            else:\n",
    "                output[\".\".join(new_path)] = [value]\n",
    "\n",
    "    output = {}\n",
    "    helper(input_dict, output, [])\n",
    "    print(output)\n",
    "\n",
    "# Example usage:\n",
    "input_dict = {\"abc\":{\"def\":{\"ghi\":{\"jkl\":{\"mno\":{\"pqr\":{\"stu\":{\"vwx\":{\"yz\":\"you are finally here !!!\"}}}}}}}}}\n",
    "print_dict(input_dict)\n"
   ]
  },
  {
   "cell_type": "code",
   "execution_count": null,
   "id": "23c736c6-24bc-4710-8a60-a7eddece4939",
   "metadata": {},
   "outputs": [],
   "source": []
  },
  {
   "cell_type": "code",
   "execution_count": 7,
   "id": "60deb46e-4ead-43bc-8cd6-8bb4995e2026",
   "metadata": {},
   "outputs": [],
   "source": [
    "def max_min_distance(stalls, k):\n",
    "    stalls.sort()\n",
    "    low, high = 1, stalls[-1] - stalls[0]\n",
    "    while low < high:\n",
    "        mid = (low + high + 1) // 2\n",
    "        count, prev = 1, stalls[0]\n",
    "        for stall in stalls:\n",
    "            if stall - prev >= mid:\n",
    "                count += 1\n",
    "                prev = stall\n",
    "        if count < k:\n",
    "            high = mid - 1\n",
    "        else:\n",
    "            low = mid\n",
    "    return low\n",
    "\n",
    "\n"
   ]
  },
  {
   "cell_type": "code",
   "execution_count": 8,
   "id": "f96373f4-8b31-4223-ac6d-c971c9676fa1",
   "metadata": {},
   "outputs": [
    {
     "name": "stdout",
     "output_type": "stream",
     "text": [
      "3\n"
     ]
    }
   ],
   "source": [
    "# Example usage:\n",
    "stalls = [1, 2, 4, 8, 9]\n",
    "k = 3\n",
    "print(max_min_distance(stalls, k))  # Output: 3"
   ]
  },
  {
   "cell_type": "code",
   "execution_count": null,
   "id": "f5225d86-f8c4-44a2-9b26-2bc7656e0b54",
   "metadata": {},
   "outputs": [],
   "source": []
  },
  {
   "cell_type": "code",
   "execution_count": 9,
   "id": "5c05e150-8973-4d73-a077-a31205c2a8e6",
   "metadata": {},
   "outputs": [
    {
     "name": "stdout",
     "output_type": "stream",
     "text": [
      "---------.|.---------\n",
      "------.|..|..|.------\n",
      "---.|..|..|..|..|.---\n",
      "-------WELCOME-------\n",
      "---.|..|..|..|..|.---\n",
      "------.|..|..|.------\n",
      "---------.|.---------\n"
     ]
    }
   ],
   "source": [
    "def door_mat(n, m):\n",
    "    pattern = [('.|.' * (2 * i + 1)).center(m, '-') for i in range(n // 2)]\n",
    "    welcome = 'WELCOME'.center(m, '-')\n",
    "    return '\\n'.join(pattern + [welcome] + pattern[::-1])\n",
    "\n",
    "# Example usage:\n",
    "N, M = 7, 21\n",
    "print(door_mat(N, M))\n"
   ]
  },
  {
   "cell_type": "code",
   "execution_count": null,
   "id": "c3df7100-9e1f-4c30-bbef-9e0e1215743d",
   "metadata": {},
   "outputs": [],
   "source": []
  }
 ],
 "metadata": {
  "kernelspec": {
   "display_name": "Python 3 (ipykernel)",
   "language": "python",
   "name": "python3"
  },
  "language_info": {
   "codemirror_mode": {
    "name": "ipython",
    "version": 3
   },
   "file_extension": ".py",
   "mimetype": "text/x-python",
   "name": "python",
   "nbconvert_exporter": "python",
   "pygments_lexer": "ipython3",
   "version": "3.11.8"
  }
 },
 "nbformat": 4,
 "nbformat_minor": 5
}
